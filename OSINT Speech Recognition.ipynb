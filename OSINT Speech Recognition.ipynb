{
 "cells": [
  {
   "cell_type": "markdown",
   "id": "17477a93",
   "metadata": {},
   "source": [
    "# OSINT Speech Recognition"
   ]
  },
  {
   "cell_type": "code",
   "execution_count": 7,
   "id": "755de9e7",
   "metadata": {},
   "outputs": [],
   "source": [
    "from speech_recognition import AudioFile\n",
    "from speech_recognition import Recognizer"
   ]
  },
  {
   "cell_type": "code",
   "execution_count": 29,
   "id": "fb6a0ad6",
   "metadata": {},
   "outputs": [],
   "source": [
    "keyword  = \"Twitter, password, FBI\"\n",
    "keywords = keyword.split(\",\")\n",
    "file = \"Comey.wav\""
   ]
  },
  {
   "cell_type": "code",
   "execution_count": 30,
   "id": "f7a97936",
   "metadata": {},
   "outputs": [],
   "source": [
    "def transcript(file):\n",
    "    transcriptions = []\n",
    "    recognizer = Recognizer()\n",
    "    \n",
    "    with AudioFile(file) as file:\n",
    "        audio = recognizer.record(file)\n",
    "        transcriptions.append(recognizer.recognize_google(audio))\n",
    "        \n",
    "    for keyword in keywords:\n",
    "        for transcription in transcriptions:\n",
    "            if keyword.lower() in transcription.lower():\n",
    "                print(\"Keyword {} found in audio.\".format(keyword))"
   ]
  },
  {
   "cell_type": "code",
   "execution_count": 31,
   "id": "c97f9c87",
   "metadata": {},
   "outputs": [
    {
     "name": "stdout",
     "output_type": "stream",
     "text": [
      "Keyword Twitter found in audio.\n",
      "Keyword  FBI found in audio.\n"
     ]
    }
   ],
   "source": [
    "transcript(file)"
   ]
  },
  {
   "cell_type": "code",
   "execution_count": 32,
   "id": "544aa51e",
   "metadata": {},
   "outputs": [
    {
     "data": {
      "text/plain": [
       "'Twitter, password, FBI'"
      ]
     },
     "execution_count": 32,
     "metadata": {},
     "output_type": "execute_result"
    }
   ],
   "source": [
    "keyword"
   ]
  },
  {
   "cell_type": "code",
   "execution_count": null,
   "id": "30c30f0b",
   "metadata": {},
   "outputs": [],
   "source": []
  }
 ],
 "metadata": {
  "kernelspec": {
   "display_name": "Python 3 (ipykernel)",
   "language": "python",
   "name": "python3"
  },
  "language_info": {
   "codemirror_mode": {
    "name": "ipython",
    "version": 3
   },
   "file_extension": ".py",
   "mimetype": "text/x-python",
   "name": "python",
   "nbconvert_exporter": "python",
   "pygments_lexer": "ipython3",
   "version": "3.11.2"
  }
 },
 "nbformat": 4,
 "nbformat_minor": 5
}
